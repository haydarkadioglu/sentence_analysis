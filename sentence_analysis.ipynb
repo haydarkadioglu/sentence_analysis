{
 "cells": [
  {
   "cell_type": "markdown",
   "metadata": {},
   "source": [
    "# this model just created with 50.000 sentence\n",
    "# if you want more you can change number of for loop in the 5th cell"
   ]
  },
  {
   "cell_type": "code",
   "execution_count": 2,
   "metadata": {},
   "outputs": [],
   "source": [
    "import numpy as np\n",
    "import pandas as pd\n",
    "import matplotlib.pyplot as plt\n",
    "from sklearn.feature_extraction.text import CountVectorizer\n",
    "from sklearn.ensemble import RandomForestClassifier\n",
    "import re\n",
    "import nltk\n",
    "from sklearn.model_selection import train_test_split\n",
    "from nltk.corpus import stopwords\n",
    "import joblib\n"
   ]
  },
  {
   "cell_type": "code",
   "execution_count": 3,
   "metadata": {},
   "outputs": [
    {
     "data": {
      "text/plain": [
       "<bound method NDFrame.head of               id                                             tweets   labels\n",
       "0            0.0  ChatGPT: Optimizing Language Models for Dialog...  neutral\n",
       "1            1.0  Try talking with ChatGPT, our new AI system wh...     good\n",
       "2            2.0  ChatGPT: Optimizing Language Models for Dialog...  neutral\n",
       "3            3.0  THRILLED to share that ChatGPT, our new model ...     good\n",
       "4            4.0  As of 2 minutes ago, @OpenAI released their ne...      bad\n",
       "...          ...                                                ...      ...\n",
       "219289  219289.0  Other Software Projects Are Now Trying to Repl...      bad\n",
       "219290  219290.0  I asked #ChatGPT to write a #NYE Joke for SEOs...     good\n",
       "219291  219291.0  chatgpt is being disassembled until it can onl...      bad\n",
       "219292  219292.0  2023 predictions by #chatGPT. Nothing really s...      bad\n",
       "219293  219293.0   From ChatGPT, neat stuff https://t.co/qjjUF2Z2m0  neutral\n",
       "\n",
       "[219294 rows x 3 columns]>"
      ]
     },
     "execution_count": 3,
     "metadata": {},
     "output_type": "execute_result"
    }
   ],
   "source": [
    "df = pd.read_csv('dataset/sentences.csv',  delimiter=',', quoting=2, encoding=\"utf-8\")\n",
    "df.head"
   ]
  },
  {
   "cell_type": "code",
   "execution_count": 4,
   "metadata": {},
   "outputs": [
    {
     "name": "stderr",
     "output_type": "stream",
     "text": [
      "[nltk_data] Downloading package stopwords to\n",
      "[nltk_data]     C:\\Users\\ahayd\\AppData\\Roaming\\nltk_data...\n",
      "[nltk_data]   Package stopwords is already up-to-date!\n"
     ]
    },
    {
     "data": {
      "text/plain": [
       "True"
      ]
     },
     "execution_count": 4,
     "metadata": {},
     "output_type": "execute_result"
    }
   ],
   "source": [
    "nltk.download('stopwords')\n"
   ]
  },
  {
   "cell_type": "code",
   "execution_count": 5,
   "metadata": {},
   "outputs": [],
   "source": [
    "def procces_sentence(review:str)->str:\n",
    "    sample_review = re.sub(r'http\\S+', '', review)\n",
    "    sample_review = re.sub(\"[^a-zA-Z]\",' ',sample_review)\n",
    "    sample_review = sample_review.lower()\n",
    "    sample_review = sample_review.split()\n",
    "    swords = set(stopwords.words(\"english\"))                     \n",
    "    sample_review = [w for w in sample_review if w not in swords]        \n",
    "    sample_review = \" \".join(sample_review)\n",
    "    return sample_review\n",
    "\n",
    "def take_res(count:int)->int:\n",
    "    labels = df[\"labels\"][count]\n",
    "    if labels == \"bad\": return 0\n",
    "    elif labels == \"neutral\": return 1\n",
    "    elif labels == \"good\": return 2\n"
   ]
  },
  {
   "cell_type": "code",
   "execution_count": 6,
   "metadata": {},
   "outputs": [
    {
     "name": "stdout",
     "output_type": "stream",
     "text": [
      "proccess sentence number: 0\n",
      "proccess sentence number: 10000\n",
      "proccess sentence number: 20000\n",
      "proccess sentence number: 30000\n",
      "proccess sentence number: 40000\n"
     ]
    }
   ],
   "source": [
    "trainx = []\n",
    "trainy = []\n",
    "for i in range(50000):\n",
    "    trainx.append(procces_sentence(df[\"tweets\"][i]))\n",
    "    trainy.append(take_res(i))\n",
    "    if i%10000 == 0:\n",
    "        print(f\"proccess sentence number: {i}\")\n"
   ]
  },
  {
   "cell_type": "code",
   "execution_count": 7,
   "metadata": {},
   "outputs": [],
   "source": [
    "\"\"\"\n",
    "with open(\"trainx.pkl\", \"wb\") as file:\n",
    "    joblib.dump(trainx, file)\n",
    "with open(\"trainy.pkl\", \"wb\") as file:\n",
    "    joblib.dump(trainy, file)\n",
    "\"\"\"\n",
    "\n"
   ]
  },
  {
   "cell_type": "code",
   "execution_count": null,
   "metadata": {},
   "outputs": [],
   "source": [
    "trainy = np.array(trainy)\n",
    "trainy\n",
    "train_x, test_x, y_train, y_test = train_test_split(trainx,trainy, test_size = 0.1)\n",
    "vectorizer = CountVectorizer( max_features = 5000 )\n",
    "train_x = vectorizer.fit_transform(train_x)\n",
    "\n"
   ]
  },
  {
   "cell_type": "code",
   "execution_count": null,
   "metadata": {},
   "outputs": [],
   "source": [
    "train_x.shape, y_train.shape"
   ]
  },
  {
   "cell_type": "code",
   "execution_count": null,
   "metadata": {},
   "outputs": [],
   "source": [
    "model = RandomForestClassifier(n_estimators=100, random_state=42)\n",
    "model.fit(train_x, y_train)"
   ]
  },
  {
   "cell_type": "code",
   "execution_count": null,
   "metadata": {},
   "outputs": [],
   "source": [
    "test_xx = vectorizer.transform(test_x)\n",
    "test_xx\n",
    "test_xx = test_xx.toarray()"
   ]
  },
  {
   "cell_type": "code",
   "execution_count": null,
   "metadata": {},
   "outputs": [],
   "source": [
    "def predict_sentiment(new_sentence, model, vectorizer):\n",
    "    cleaned_sentence = procces_sentence(new_sentence)\n",
    "    new_sentence_vector = vectorizer.transform([cleaned_sentence])\n",
    "    new_sentence_vector = new_sentence_vector.toarray()\n",
    "    prediction = model.predict(new_sentence_vector)\n",
    "    \n",
    "    if prediction == 2:\n",
    "        sentiment = \"positive\"\n",
    "    elif prediction == 1: sentiment = \"neutral\"\n",
    "    else:\n",
    "        sentiment = \"negative\"\n",
    "    \n",
    "    return sentiment\n",
    "\n",
    "\n"
   ]
  },
  {
   "cell_type": "code",
   "execution_count": null,
   "metadata": {},
   "outputs": [],
   "source": [
    "new_sentence = \"you are so good and in love\"\n",
    "\n",
    "predicted_sentiment = predict_sentiment(new_sentence, model, vectorizer)\n",
    "print(f\"Girilen cümlenin sentiment değeri: {predicted_sentiment}\")"
   ]
  },
  {
   "cell_type": "code",
   "execution_count": null,
   "metadata": {},
   "outputs": [],
   "source": [
    "\n",
    "\n",
    "#with open(\"trained_model.pkl\", \"wb\") as file:\n",
    " #   joblib.dump(model, file)"
   ]
  }
 ],
 "metadata": {
  "kernelspec": {
   "display_name": "Python 3",
   "language": "python",
   "name": "python3"
  },
  "language_info": {
   "codemirror_mode": {
    "name": "ipython",
    "version": 3
   },
   "file_extension": ".py",
   "mimetype": "text/x-python",
   "name": "python",
   "nbconvert_exporter": "python",
   "pygments_lexer": "ipython3",
   "version": "3.11.4"
  },
  "orig_nbformat": 4
 },
 "nbformat": 4,
 "nbformat_minor": 2
}
